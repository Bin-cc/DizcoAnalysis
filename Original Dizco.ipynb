{
 "cells": [
  {
   "cell_type": "markdown",
   "id": "a0bbeae8",
   "metadata": {},
   "source": [
    "## This is the version of Python for Dizco\n",
    "### The original version of Dizco can be check in https://github.com/jmwozniak/DizcoProcessing"
   ]
  },
  {
   "cell_type": "code",
   "execution_count": null,
   "id": "3d677e7d",
   "metadata": {},
   "outputs": [],
   "source": [
    "import pandas as pd\n",
    "import numpy as np\n",
    "from collections import Counter\n",
    "from sklearn.preprocessing import StandardScaler\n",
    "from sklearn.linear_model import LogisticRegression\n",
    "import datetime\n",
    "import warnings\n",
    "warnings.filterwarnings('ignore')"
   ]
  },
  {
   "cell_type": "markdown",
   "id": "66bf1868",
   "metadata": {},
   "source": [
    "#### To determin if the peptide modifications include the target modifications modID"
   ]
  },
  {
   "cell_type": "code",
   "execution_count": null,
   "id": "1b521954",
   "metadata": {},
   "outputs": [],
   "source": [
    "def label_match(values,modID,col_mod):\n",
    "    try:\n",
    "        if np.isnan(values[col_mod+1]): return np.nan\n",
    "    except:\n",
    "        mod = values[col_mod+1].split('; ')\n",
    "        match = [m for m in mod if any(name in m for name in modID)]\n",
    "        return values[0] if match != [] else np.nan"
   ]
  },
  {
   "cell_type": "markdown",
   "id": "4cdbdd9e",
   "metadata": {},
   "source": [
    "#### To decide whether the value is nan"
   ]
  },
  {
   "cell_type": "code",
   "execution_count": null,
   "id": "01a87703",
   "metadata": {},
   "outputs": [],
   "source": [
    "def is_not_nan(value):\n",
    "    return True if not np.isnan(value) else False"
   ]
  },
  {
   "cell_type": "markdown",
   "id": "daceaaff",
   "metadata": {},
   "source": [
    "#### To extract protein ID from Master Protein Accessions, remaining the first one"
   ]
  },
  {
   "cell_type": "code",
   "execution_count": null,
   "id": "2d54445a",
   "metadata": {},
   "outputs": [],
   "source": [
    "def extract_labeled(data,modID,col_mod):\n",
    "    data = data.reset_index(drop=False)\n",
    "    index = list(map(lambda x:label_match(x,modID,col_mod), data.values))\n",
    "    index = list(filter(lambda x:is_not_nan(x), index))\n",
    "    return data.iloc[index,1:].reset_index(drop=True)"
   ]
  }
 ],
 "metadata": {
  "kernelspec": {
   "display_name": "Python 3 (ipykernel)",
   "language": "python",
   "name": "python3"
  },
  "language_info": {
   "codemirror_mode": {
    "name": "ipython",
    "version": 3
   },
   "file_extension": ".py",
   "mimetype": "text/x-python",
   "name": "python",
   "nbconvert_exporter": "python",
   "pygments_lexer": "ipython3",
   "version": "3.11.5"
  }
 },
 "nbformat": 4,
 "nbformat_minor": 5
}
