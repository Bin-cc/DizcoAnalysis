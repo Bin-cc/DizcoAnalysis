{
 "cells": [
  {
   "cell_type": "code",
   "execution_count": null,
   "id": "c042ea36-8a6f-4479-8be8-04938ca06efc",
   "metadata": {},
   "outputs": [],
   "source": [
    "import pickle\n",
    "import pandas as pd\n",
    "from Bio.PDB import PDBParser\n",
    "from Bio.PDB.DSSP import DSSP\n",
    "from Bio.PDB.SASA import ShrakeRupley\n",
    "from Bio.PDB.HSExposure import HSExposureCB\n",
    "from os import listdir\n",
    "import os\n",
    "import subprocess"
   ]
  },
  {
   "cell_type": "code",
   "execution_count": null,
   "id": "a07d57b9-9ff9-4787-ad38-5dd1518371ee",
   "metadata": {},
   "outputs": [],
   "source": [
    "def dssp_analysis(model,pdbFile,prot_loc):\n",
    "    #没有TCO、Kappa和Alpha等值\n",
    "    dssp_path = 'D:/All_for_paper/1. PhD Work Program/3. Research project/1. Dizco/Structural Information Calculation/DSSP/dssp-3.0.0-win32.exe'\n",
    "    dssp = DSSP(model, path+pdbFile,dssp=dssp_path)\n",
    "\n",
    "    dssp_result = [tuple((dssp[res])) for res in list(dssp.keys())]\n",
    "    columns = ['DSSP index','Residue','Secondary structure','Relative ASA',\n",
    "               'Phi','Psi','nho1_relidx','nho1_energy','onh1_relidx','onh1_energy',\n",
    "               'nho2_relidx','nho2_energy','onh2_relidx','onh2_energy']\n",
    "    dssp_result = pd.DataFrame(dssp_result,columns=columns)\n",
    "    return dssp_result"
   ]
  },
  {
   "cell_type": "code",
   "execution_count": null,
   "id": "a35e3953-1106-4cd5-a6a2-76ce8db25592",
   "metadata": {},
   "outputs": [],
   "source": [
    "def extract_dssp_infor(output_path):\n",
    "    with open(output_path, 'r') as file:\n",
    "        lines = file.readlines()\n",
    "    \n",
    "    columns = ['DSSP index', 'Residue', 'AA', 'Secondary structure', 'Relative ASA', \n",
    "               'Phi', 'Psi', 'TCO', 'Kappa', 'Alpha', \n",
    "               'nho1_relidx', 'nho1_energy', 'onh1_relidx', 'onh1_energy',\n",
    "               'nho2_relidx', 'nho2_energy', 'onh2_relidx', 'onh2_energy']\n",
    "    \n",
    "    dssp_result = []\n",
    "    for line in lines[28:]:\n",
    "        if line[13] == '!': continue\n",
    "        \n",
    "        dssp_index = int(line[0:5].strip())  # DSSP index\n",
    "        residue = int(line[5:10].strip())    # Residue number\n",
    "        aa = line[13]                        # Amino acid one-letter code\n",
    "        sec_structure = line[16]             # Secondary structure\n",
    "        rel_asa = float(line[35:38].strip()) # Relative ASA\n",
    "        phi = float(line[103:109].strip())   # Phi angle\n",
    "        psi = float(line[109:115].strip())   # Psi angle\n",
    "        tco = float(line[85:91].strip())     # TCO value\n",
    "        kappa = float(line[91:97].strip())   # Kappa value\n",
    "        alpha = float(line[97:103].strip())  # Alpha value\n",
    "        # Extract hydrogen bonding information\n",
    "        nho1_relidx = int(line[39:45].strip())\n",
    "        nho1_energy = float(line[46:50].strip())\n",
    "        onh1_relidx = int(line[50:56].strip())\n",
    "        onh1_energy = float(line[57:61].strip())\n",
    "        nho2_relidx = int(line[61:67].strip())\n",
    "        nho2_energy = float(line[68:72].strip())\n",
    "        onh2_relidx = int(line[72:78].strip())\n",
    "        onh2_energy = float(line[79:83].strip())\n",
    "    \n",
    "        row = [dssp_index, residue, aa, sec_structure, rel_asa, phi, psi, \n",
    "               tco, kappa, alpha, \n",
    "               nho1_relidx, nho1_energy, onh1_relidx, onh1_energy,\n",
    "               nho2_relidx, nho2_energy, onh2_relidx, onh2_energy]\n",
    "        \n",
    "        dssp_result.append(row)\n",
    "    \n",
    "    dssp_result = pd.DataFrame(dssp_result, columns=columns)\n",
    "    return dssp_result\n",
    "    \n",
    "def retrieve_dssp_from_file(pdbFile):\n",
    "    dssp_path = 'D:/DSSP/DSSP/dssp-3.0.0-win32.exe'\n",
    "    exe_path = 'D:/DSSP/DSSP/'\n",
    "    input_path = path+pdbFile\n",
    "    output_path = exe_path+'output_{:}.dssp'.format(pdbFile.split('-')[1])\n",
    "    cmd = '{:} -i \"{:}\" -o {:}'.format(dssp_path,input_path,output_path)\n",
    "    subprocess.call(cmd, cwd=exe_path, shell=True)\n",
    "    \n",
    "    dssp_result = extract_dssp_infor(output_path)\n",
    "    os.remove(output_path)\n",
    "    return dssp_result"
   ]
  },
  {
   "cell_type": "code",
   "execution_count": null,
   "id": "2637bf16-7271-4caf-96de-8345d4b38b60",
   "metadata": {},
   "outputs": [],
   "source": [
    "def sasa_cal(structure):\n",
    "    sr = ShrakeRupley(n_points=600)\n",
    "    sr.compute(structure, level=\"R\")\n",
    "    \n",
    "    sasa_result = []\n",
    "    for res in structure.get_residues():\n",
    "        sasa_result.append(tuple((res.get_id()[1],res.get_resname(),res.sasa)))\n",
    "    sasa_result = pd.DataFrame(sasa_result,columns=['Res_id','Residue','sasa'])\n",
    "    return sasa_result"
   ]
  },
  {
   "cell_type": "code",
   "execution_count": null,
   "id": "321cb5d8-66d8-4a71-b23b-8b47519557aa",
   "metadata": {},
   "outputs": [],
   "source": [
    "path = 'D:/All_for_paper/1. PhD Work Program/3. Research project/1. Dizco/AlphaFold_pdbFiles/'\n",
    "prot_loc_dic = pickle.load(open('D:/All_for_paper/1. PhD Work Program/3. Research project/1. Dizco/pkl_files/Coordinates of residues of proteins.pkl','rb'))"
   ]
  },
  {
   "cell_type": "code",
   "execution_count": null,
   "id": "9c1d95cb-9399-498e-b829-25833720f0f9",
   "metadata": {},
   "outputs": [],
   "source": [
    "for pdbFile in listdir(path):\n",
    "    prot = pdbFile.split('-')[1]\n",
    "    pdb = PDBParser(PERMISSIVE=1)\n",
    "    structure = pdb.get_structure(prot, path+pdbFile)\n",
    "    model = structure[0]\n",
    "    prot_loc = prot_loc_dic[prot]\n",
    "    \n",
    "    dssp_result_bio = dssp_analysis(model,pdbFile,prot_loc)\n",
    "    dssp_result_exe = retrieve_dssp_from_file(pdbFile)\n",
    "    sasa_result = sasa_cal(structure)\n",
    "    sasa_result['RSA'] = dssp_result_bio.loc[:,'Relative ASA']"
   ]
  }
 ],
 "metadata": {
  "kernelspec": {
   "display_name": "Python 3 (ipykernel)",
   "language": "python",
   "name": "python3"
  },
  "language_info": {
   "codemirror_mode": {
    "name": "ipython",
    "version": 3
   },
   "file_extension": ".py",
   "mimetype": "text/x-python",
   "name": "python",
   "nbconvert_exporter": "python",
   "pygments_lexer": "ipython3",
   "version": "3.12.3"
  }
 },
 "nbformat": 4,
 "nbformat_minor": 5
}
