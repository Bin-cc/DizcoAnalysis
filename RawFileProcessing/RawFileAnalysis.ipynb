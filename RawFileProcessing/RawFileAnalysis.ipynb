{
 "cells": [
  {
   "cell_type": "markdown",
   "id": "f1b164e8-ce83-4b01-acb0-87ca136934ee",
   "metadata": {},
   "source": [
    "##### 直接从质谱数据中读取给定蛋白的肽段匹配信息"
   ]
  },
  {
   "cell_type": "code",
   "execution_count": null,
   "id": "61d1c5e1-bb4e-4b78-a1c4-999f97da49b8",
   "metadata": {},
   "outputs": [],
   "source": [
    "import sys\n",
    "sys.path.append('E:/Proteomics/PhD_script/1. Dizco/1.1 RawFileProcessing')\n",
    "from os import listdir\n",
    "import numpy as np\n",
    "import pandas as pd\n",
    "from tqdm import tqdm\n",
    "import matplotlib.pyplot as plt\n",
    "import seaborn as sns\n",
    "from ms_readout import MSPiepline,ParseMS2\n",
    "from statannotations.Annotator import Annotator\n",
    "from adjustText import adjust_text\n",
    "import os\n",
    "import warnings\n",
    "warnings.filterwarnings('ignore')"
   ]
  },
  {
   "cell_type": "markdown",
   "id": "edcc2bdd-f485-4e61-af45-dc05585d1b23",
   "metadata": {},
   "source": [
    "#### 1. 从质谱数据中获取修饰与不修饰的肽段信息"
   ]
  },
  {
   "cell_type": "code",
   "execution_count": null,
   "id": "2da7e2f5-98e1-4e1f-99bb-a804476fa756",
   "metadata": {},
   "outputs": [],
   "source": [
    "#根据给定修饰，找到对应蛋白在质谱数据中的匹配情况\n",
    "def generate_result(ms_path,mod):\n",
    "    total_result = {}\n",
    "    for group in listdir(ms_path):\n",
    "        sample_result = {}\n",
    "        for sample in listdir(ms_path+group):\n",
    "            match_result = {}\n",
    "            mrd = MSPiepline(f'{ms_path}{group}/{sample}/',f'MS1_output_{sample}_{group}')\n",
    "            result,result_mod = mrd.generate_mod(sirt3_seq, mod[sample])\n",
    "            match_result.setdefault('non_mod',result)\n",
    "            match_result.setdefault('mod',result_mod)\n",
    "            sample_result.setdefault(sample,match_result)\n",
    "        total_result.setdefault(group,sample_result)\n",
    "    return total_result"
   ]
  },
  {
   "cell_type": "code",
   "execution_count": null,
   "id": "d7359a1f-81db-4598-b578-0927dff29232",
   "metadata": {},
   "outputs": [],
   "source": [
    "uniprot = pd.read_csv('D:/All_for_paper/1. PhD Work Program/3. Research project/1. Dizco/Test files/uniprotkb_human_AND_reviewed_true_AND_m_2024_09_12.tsv',sep='\\t')\n",
    "uniprot['Gene Names'] = uniprot['Gene Names'].str.split(' ',expand=True)[0]\n",
    "sirt3_seq = uniprot[uniprot['Gene Names']=='SIRT3'].iloc[0,-1]\n",
    "\n",
    "mod = {'sta429':640.233,'ncc':294.206}\n",
    "ms_path = 'F:/Dizco/MS_files/'"
   ]
  },
  {
   "cell_type": "code",
   "execution_count": null,
   "id": "95e279e3-f848-4653-a259-af71daddcb94",
   "metadata": {},
   "outputs": [],
   "source": [
    "total_result = generate_result(ms_path,mod)"
   ]
  },
  {
   "cell_type": "code",
   "execution_count": null,
   "id": "3c835d18-f240-4c5c-9395-015b59446945",
   "metadata": {},
   "outputs": [],
   "source": [
    "for sample,probe in total_result.items():\n",
    "    if sample != 'FREE':continue\n",
    "    for probe_name,modify in probe.items():\n",
    "        for mod,table in modify.items():\n",
    "            if mod=='non_mod':\n",
    "                print(f'{sample}-{probe_name}-{mod}:\\n')\n",
    "                for (fileName,mw,pep),table_ in table.groupby(by=['fileName','M.W','match_pep']):\n",
    "                    if table_['start_site'].values[0] >= 118:\n",
    "                        print(f'{fileName} {pep}({mw}): {len(table_)}')"
   ]
  },
  {
   "cell_type": "markdown",
   "id": "d68a03a1-b7de-41c8-bb6f-f87ad750ab1b",
   "metadata": {},
   "source": [
    "#### 2. 仅获取未修饰的肽段信息，并进一步绘制MS2谱图"
   ]
  },
  {
   "cell_type": "code",
   "execution_count": null,
   "id": "378a7c01-5c67-44a6-a761-ffd27b8de2cf",
   "metadata": {},
   "outputs": [],
   "source": [
    "#仅返回未修饰的匹配肽段信息\n",
    "def generate_result(prot_seq,ms_path,mod):\n",
    "    total_result = {}\n",
    "    for group in listdir(ms_path):\n",
    "        sample_result = {}\n",
    "        mrd = MSPiepline(f'{ms_path}{group}/',f'MS1_output_{group}')\n",
    "        result,result_mod = mrd.generate_mod(prot_seq, mod['Ide'])\n",
    "        sample_result.setdefault('non_mod',result)\n",
    "        total_result.setdefault(group,sample_result)\n",
    "    return total_result\n",
    "\n",
    "#整合多个质谱文件的信息，返回指定蛋白MS1的情况\n",
    "def integrate_pep_infor(total_result):\n",
    "    pep_infor = {}\n",
    "    for sample,condition in total_result.items():\n",
    "        for cond,table in condition.items():\n",
    "            table_ = table.drop_duplicates(subset=['match_pep','start_site','end_site'])\n",
    "            table_ = table_[['match_pep','start_site','end_site']].reset_index(drop=True)\n",
    "            for i in table_.index:\n",
    "                pep = table_.loc[i,'match_pep']\n",
    "                table_pep = table[table['match_pep']==pep]\n",
    "                for fileName,t in table_pep.groupby(by='fileName'):\n",
    "                    table_.loc[i,fileName] = len(t)\n",
    "            table_.insert(0,'Condition',sample)\n",
    "            table_.to_excel(f'{ms_path}{sample}.xlsx',index=False)\n",
    "            pep_infor.setdefault(sample,table_)\n",
    "    return pep_infor"
   ]
  },
  {
   "cell_type": "code",
   "execution_count": null,
   "id": "9e0ae521-f400-4ff7-8376-34c0104aa120",
   "metadata": {},
   "outputs": [],
   "source": [
    "#根据质谱实际MS2的结果，与理论计算的MS2结果进行匹配，若有匹配到的谱图，则进行谱图绘制并标注b/y离子峰\n",
    "def ms2_plot(data, uv_infor, non_uv_infor, remain=1, tolerance=1):\n",
    "    for i in tqdm(table_concat.index):\n",
    "        fileName, scan, rt, charge, pep = table_concat.iloc[i,[0,1,2,5,6]].values\n",
    "        if 'non-UV' in fileName:\n",
    "            target_ms2 = non_uv_infor[(non_uv_infor['fileName']==fileName)&(non_uv_infor['scan']==scan)]\n",
    "        else: \n",
    "            target_ms2 = uv_infor[(uv_infor['fileName']==fileName)&(uv_infor['scan']==scan)]\n",
    "        \n",
    "        match = False\n",
    "        target_ms2_ = target_ms2.copy()\n",
    "        target_ms2_ = target_ms2_.reset_index(drop=True)\n",
    "        match_peak = []\n",
    "        for j in target_ms2_.index:\n",
    "            frag_mass = round(target_ms2_.iloc[j,6],remain)\n",
    "            intensity = target_ms2_.iloc[j,7]\n",
    "            theo_ms2 = pep_ms2[pep]\n",
    "            for charge,theo_table in theo_ms2.items():\n",
    "                theo_table_ = theo_table.copy()\n",
    "                theo_table_['frag_mass (b)'] = theo_table_['frag_mass (b)'].round(remain)\n",
    "                theo_table_['frag_mass (y)'] = theo_table_['frag_mass (y)'].round(remain)\n",
    "                for k in theo_table_.index:\n",
    "                    if frag_mass > theo_table_.loc[k,'frag_mass (b)']-tolerance and frag_mass < theo_table_.loc[k,'frag_mass (b)']+tolerance:\n",
    "                        match = True\n",
    "                        site = theo_table_.loc[k,'site (b)']\n",
    "                        match_peak.append(tuple((frag_mass,site,theo_table_.loc[k,'frag_mass (b)'],intensity)))\n",
    "                    elif frag_mass > theo_table_.loc[k,'frag_mass (y)']-tolerance and frag_mass < theo_table_.loc[k,'frag_mass (y)']+tolerance:\n",
    "                        match = True\n",
    "                        site = theo_table_.loc[k,'site (y)']\n",
    "                        match_peak.append(tuple((frag_mass,site,theo_table_.loc[k,'frag_mass (y)'],intensity)))\n",
    "        match_peak = pd.DataFrame(match_peak,columns=['frag_mass','site','theo_mass','frag_intensity'])\n",
    "\n",
    "        if match:\n",
    "            matched_ms2_plot(target_ms2_,match_peak,fileName,scan,rt,charge,pep)"
   ]
  },
  {
   "cell_type": "code",
   "execution_count": null,
   "id": "a82e668c-e650-439c-b22c-06945377a5e9",
   "metadata": {},
   "outputs": [],
   "source": [
    "#绘制MS2谱图，若该谱图中存在两对及以上的b/y离子，则打印出来\n",
    "def matched_ms2_plot(target_ms2_,match_peak,fileName,scan,rt,charge,pep):\n",
    "    b_match = match_peak[match_peak.site.str.contains('b',case=False)].reset_index(drop=True)\n",
    "    y_match = match_peak[match_peak.site.str.contains('y',case=False)].reset_index(drop=True)\n",
    "    \n",
    "    try:\n",
    "        b_index = b_match['site'].str.split('^',expand=True)[0].str.split('b',expand=True)[1].values\n",
    "        b_charge = b_match['site'].str.split('^',expand=True)[1].values\n",
    "    except: b_index,b_charge = [],[]\n",
    "    try: \n",
    "        y_index = y_match['site'].str.split('^',expand=True)[0].str.split('y',expand=True)[1].values\n",
    "        y_charge = y_match['site'].str.split('^',expand=True)[1].values\n",
    "    except: y_index,y_charge = [],[]\n",
    "    count = 0\n",
    "    for b,bc in zip(b_index,b_charge):\n",
    "        for y,yc in zip(y_index,y_charge):\n",
    "            if int(b)+int(y) == len(pep) and int(bc)==int(yc): count += 1\n",
    "    if count >= 2: print(f'{pep}/{fileName}_{scan}')\n",
    "    \n",
    "    x_site = target_ms2_['Fragment m/z'].max()*0.4\n",
    "    y_site = target_ms2_['Fragment Inmtensity'].max()*0.7\n",
    "    \n",
    "    text = []\n",
    "    plt.figure(figsize=(4,3),dpi=100)\n",
    "    plt.rcParams['font.sans-serif'] = 'Arial'\n",
    "    plt.bar(target_ms2_['Fragment m/z'], target_ms2_['Fragment Inmtensity'],\n",
    "            color='lightgray',width=3,zorder=0)\n",
    "    if not b_match.empty:\n",
    "        plt.bar(b_match['frag_mass'], b_match['frag_intensity'],\n",
    "                color='black',width=3,zorder=10)\n",
    "        for m in b_match.index:\n",
    "            text.append(plt.text(b_match.loc[m,'frag_mass'],b_match.loc[m,'frag_intensity'],\n",
    "                                  b_match.loc[m,'site'],zorder=200,fontsize=12,color='blue'))\n",
    "    if not y_match.empty:\n",
    "        plt.bar(y_match['frag_mass'], y_match['frag_intensity'],\n",
    "                color='black',width=3,zorder=10)\n",
    "        for m in y_match.index:\n",
    "            text.append(plt.text(y_match.loc[m,'frag_mass'],y_match.loc[m,'frag_intensity'],\n",
    "                                  y_match.loc[m,'site'],zorder=200,fontsize=12,color='red'))\n",
    "    adjust_text(text,arrowprops=dict(arrowstyle='-',color='black'))\n",
    "    plt.xlabel('m/z',fontsize=12)\n",
    "    plt.ylabel('Intensity',fontsize=12)\n",
    "    plt.xticks(fontsize=10)\n",
    "    plt.yticks(fontsize=10)\n",
    "    plt.title(pep,fontsize=14)\n",
    "    plt.text(x_site,y_site,f'{fileName}\\nscan: {scan}\\nRT: {rt:.3f}\\nCharge: {charge}',\n",
    "              fontsize=10,color='black',bbox=dict(boxstyle='round,pad=0.5',fc='white',alpha=0.5))\n",
    "    if not os.path.exists(f'{ms_path}ms2_plot/{pep}'): os.mkdir(f'{ms_path}ms2_plot/{pep}')\n",
    "    plt.savefig(f'{ms_path}ms2_plot/{pep}/{fileName}_{scan}.png',dpi=300,format='png',bbox_inches='tight')"
   ]
  },
  {
   "cell_type": "code",
   "execution_count": null,
   "id": "093e7fd5-99d5-4c2c-98ff-3d3cd5a0e22f",
   "metadata": {},
   "outputs": [],
   "source": [
    "uniprot = pd.read_csv('D:/All_for_paper/1. PhD Work Program/3. Research project/1. Dizco/Test files/uniprotkb_mouse_reviewed_2024_11_20.tsv',sep='\\t')\n",
    "uniprot['Gene Names'] = uniprot['Gene Names'].str.split(' ',expand=True)[0]\n",
    "prot_seq = uniprot[uniprot['Gene Names']=='Trim14'].iloc[0,-1]\n",
    "\n",
    "ms_path = 'F:/Dizco/MS_files/2024.11.20/'\n",
    "mod = {'Ide':0}"
   ]
  },
  {
   "cell_type": "code",
   "execution_count": null,
   "id": "6f9a1992-2392-4ae7-a4bc-6cd4bc0bf512",
   "metadata": {},
   "outputs": [],
   "source": [
    "#计算理论肽段及其质量，并在所提供的质谱文件中找到与之质量匹配的MS1\n",
    "total_result = generate_result(prot_seq,ms_path,mod)\n",
    "pep_infor = integrate_pep_infor(total_result)\n",
    "pep_infor = pd.merge(pep_infor['uv'], pep_infor['non_uv'],on=['match_pep','start_site','end_site'],how='outer')\n",
    "pep_infor.to_excel(f'{ms_path}pep_infor_Pcx.xlsx',index=False)\n",
    "table_concat = pd.DataFrame()\n",
    "for sample,condition in total_result.items():\n",
    "    for cond,table in condition.items():\n",
    "        table['type'] = sample\n",
    "        table_concat = pd.concat([table_concat,table],axis=0)\n",
    "pep_infor = pd.read_excel(f'{ms_path}pep_infor_TRIM14.xlsx')\n",
    "table_concat = pd.merge(table_concat, pep_infor[['Index','match_pep']],on='match_pep')\n",
    "table_concat['Seq_Intensity'] = np.log2(table_concat['Seq_Intensity'])"
   ]
  },
  {
   "cell_type": "code",
   "execution_count": null,
   "id": "55ad4006-53d4-4cab-a078-38a0d824cff5",
   "metadata": {},
   "outputs": [],
   "source": [
    "#绘制不同条件下的匹配到的理论肽段的RT和intensity分布\n",
    "plt.figure(dpi=300,figsize=(20,3))\n",
    "plt.rcParams['font.sans-serif'] = 'Arial'\n",
    "ax=sns.boxplot(data=table_concat, x='Index', y='RT', hue='type',\n",
    "            width=0.5,showfliers=False,)\n",
    "box_pairs = [((i,'uv'),(i,'non_uv')) for i in range(1,len(pep_infor)+1)]\n",
    "annot = Annotator(ax, data=table_concat, x='Index', y='RT', hue='type',pairs=box_pairs)\n",
    "annot.configure(test='t-test_ind', text_format='star',line_height=0.03,line_width=1)\n",
    "annot.apply_and_annotate()\n",
    "plt.xlabel('Peptide index',fontsize=14,labelpad=5)\n",
    "plt.ylabel('RT',fontsize=14,labelpad=5)\n",
    "plt.xticks(fontsize=12)\n",
    "plt.yticks(fontsize=12)\n",
    "plt.show()"
   ]
  },
  {
   "cell_type": "code",
   "execution_count": null,
   "id": "479376e6-3f44-423e-a2f5-ec930934f1ad",
   "metadata": {},
   "outputs": [],
   "source": [
    "#计算理论肽段的理论二级谱图（默认仅计算charge2-4的MS2）\n",
    "pms2 = ParseMS2()\n",
    "pep_ms2 = {pep:pms2.theoMS2(pep) for pep in pep_infor['match_pep']}\n",
    "\n",
    "#根据计算的理论MS2，与匹配到的MS1进行比较，看质谱文件中的MS2是否能有之匹配的峰\n",
    "uv_infor = pd.read_csv(f'{ms_path}uv/MS1_output_uv.csv')\n",
    "non_uv_infor = pd.read_csv(f'{ms_path}non_uv/MS1_output_non_uv.csv')\n",
    "\n",
    "ms2_plot(table_concat,uv_infor,non_uv_infor)"
   ]
  },
  {
   "cell_type": "code",
   "execution_count": null,
   "id": "089418b7-e1ca-4490-9f95-0b17612f41fa",
   "metadata": {},
   "outputs": [],
   "source": []
  }
 ],
 "metadata": {
  "kernelspec": {
   "display_name": "Python 3 (ipykernel)",
   "language": "python",
   "name": "python3"
  },
  "language_info": {
   "codemirror_mode": {
    "name": "ipython",
    "version": 3
   },
   "file_extension": ".py",
   "mimetype": "text/x-python",
   "name": "python",
   "nbconvert_exporter": "python",
   "pygments_lexer": "ipython3",
   "version": "3.12.4"
  }
 },
 "nbformat": 4,
 "nbformat_minor": 5
}
