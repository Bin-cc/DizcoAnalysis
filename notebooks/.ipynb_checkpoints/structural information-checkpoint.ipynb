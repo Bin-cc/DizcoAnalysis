{
 "cells": [
  {
   "cell_type": "code",
   "execution_count": null,
   "id": "c042ea36-8a6f-4479-8be8-04938ca06efc",
   "metadata": {},
   "outputs": [],
   "source": [
    "import sys\n",
    "sys.path.append('D:/All_for_paper/Proteomics/PhD_project/1. Dizco/')\n",
    "import pandas as pd\n",
    "import numpy as np\n",
    "from os import listdir\n",
    "from multiprocessing import Pool\n",
    "from StructureInformationIntegration import data_integration\n",
    "from tqdm import tqdm\n",
    "import warnings\n",
    "warnings.filterwarnings('ignore')"
   ]
  },
  {
   "cell_type": "code",
   "execution_count": null,
   "id": "a07d57b9-9ff9-4787-ad38-5dd1518371ee",
   "metadata": {},
   "outputs": [],
   "source": [
    "def infor_merge(sites_summary,structure_data_dic):\n",
    "    sites_summary_ = pd.DataFrame()\n",
    "    for prot,table in sites_summary.groupby(by='ProtName'):\n",
    "        structure_data = structure_data_dic[prot]\n",
    "        table['Res_id'] = table['Res_id'].astype(np.float64)\n",
    "        table_ = pd.merge(table, structure_data,on=['Residue','Res_id'],how='left') \n",
    "        sites_summary_ = pd.concat([sites_summary_,table_],axis=0)\n",
    "    sites_summary_ = sites_summary_.sort_values(by=['DataClass','ProtName','Res_id'],ascending=[True,True,True])\n",
    "    \n",
    "    return sites_summary_.reset_index(drop=True)"
   ]
  },
  {
   "cell_type": "code",
   "execution_count": null,
   "id": "a35e3953-1106-4cd5-a6a2-76ce8db25592",
   "metadata": {},
   "outputs": [],
   "source": [
    "def sites_integration(dist_file_path,probe):\n",
    "    sites_summary = pd.DataFrame()\n",
    "    for data_class in listdir(dist_file_path+probe):\n",
    "        sites_list = listdir(dist_file_path+probe+'/'+data_class)\n",
    "        sites_list = [tuple(site.split('.')[0].split('_')[1:4]) for site in sites_list]\n",
    "        sites_list = pd.DataFrame(sites_list,columns=['ProtName','Residue','Res_id'])\n",
    "        sites_list['DataClass'] = data_class\n",
    "        sites_summary = pd.concat([sites_summary,sites_list],axis=0)\n",
    "    prot_list = sites_summary['ProtName'].unique()\n",
    "    pdbFiles = [file for file in listdir(path) if file.split('-')[1] in prot_list]\n",
    "    \n",
    "    #AlphaFold存在多个Accession重复的pdb文件，这里仅简单去重\n",
    "    #后续可根据sequence coverage等指标筛选unique的pdb\n",
    "    pdbFiles_uni,prot_store = [],[]\n",
    "    for file in pdbFiles:\n",
    "        if file.split('-')[1] not in prot_store:\n",
    "            pdbFiles_uni.append(file)\n",
    "            prot_store.append(file.split('-')[1])\n",
    "    \n",
    "    return sites_summary,pdbFiles_uni"
   ]
  },
  {
   "cell_type": "code",
   "execution_count": null,
   "id": "2637bf16-7271-4caf-96de-8345d4b38b60",
   "metadata": {},
   "outputs": [],
   "source": [
    "path = 'D:/All_for_paper/1. PhD Work Program/3. Research project/1. Dizco/AlphaFold_pdbFiles/'\n",
    "dist_file_path = 'D:/All_for_paper/1. PhD Work Program/3. Research project/1. Dizco/distance_matrix/'\n",
    "output_path = 'D:/All_for_paper/1. PhD Work Program/3. Research project/1. Dizco/Structural Information Calculation/data output/'"
   ]
  },
  {
   "cell_type": "code",
   "execution_count": null,
   "id": "9c1d95cb-9399-498e-b829-25833720f0f9",
   "metadata": {},
   "outputs": [],
   "source": [
    "for probe in tqdm(listdir(dist_file_path)):\n",
    "    sites_summary,pdbFiles_uni = sites_integration(dist_file_path,probe)\n",
    "    \n",
    "    with Pool(4) as p:\n",
    "        structure_data = p.map(data_integration,pdbFiles_uni)\n",
    "    structure_data_dic = {}\n",
    "    for data in structure_data: structure_data_dic.update(data)\n",
    "    \n",
    "    sites_summary = infor_merge(sites_summary,structure_data_dic)\n",
    "    sites_summary['probe'] = probe\n",
    "    \n",
    "    sites_summary.to_csv(output_path+'{:}_structure_infor.csv'.format(probe),index=False)"
   ]
  }
 ],
 "metadata": {
  "kernelspec": {
   "display_name": "Python 3 (ipykernel)",
   "language": "python",
   "name": "python3"
  },
  "language_info": {
   "codemirror_mode": {
    "name": "ipython",
    "version": 3
   },
   "file_extension": ".py",
   "mimetype": "text/x-python",
   "name": "python",
   "nbconvert_exporter": "python",
   "pygments_lexer": "ipython3",
   "version": "3.12.3"
  }
 },
 "nbformat": 4,
 "nbformat_minor": 5
}
