{
 "cells": [
  {
   "cell_type": "markdown",
   "id": "26cf2ebc-2b8f-428c-a147-d05c6463b7be",
   "metadata": {},
   "source": [
    "##### 为每个蛋白计算氨基酸层面的结构特征"
   ]
  },
  {
   "cell_type": "code",
   "execution_count": null,
   "id": "bd298589-7e81-4bde-8164-04c14ce42e4c",
   "metadata": {},
   "outputs": [],
   "source": [
    "import sys\n",
    "sys.path.append('D:/All_for_paper/Proteomics/PhD_project/1. Dizco/')\n",
    "import pandas as pd\n",
    "import numpy as np\n",
    "from os import listdir\n",
    "from multiprocessing import Pool\n",
    "from StructureInformationIntegration import data_integration\n",
    "from tqdm import tqdm\n",
    "import warnings\n",
    "warnings.filterwarnings('ignore')"
   ]
  },
  {
   "cell_type": "code",
   "execution_count": null,
   "id": "f217ad86-cf07-4521-b9f3-9d4a550c1b8e",
   "metadata": {},
   "outputs": [],
   "source": [
    "#根据dizco的数据集，提取所需的结构特征，并整合在一起\n",
    "def infor_merge(sites_summary,structure_data_dic):\n",
    "    sites_summary_ = pd.DataFrame()\n",
    "    for prot,table in sites_summary.groupby(by='ProtName'):\n",
    "        structure_data = structure_data_dic[prot]\n",
    "        table['Res_id'] = table['Res_id'].astype(np.float64)\n",
    "        table_ = pd.merge(table, structure_data,on=['Residue','Res_id'],how='left') \n",
    "        sites_summary_ = pd.concat([sites_summary_,table_],axis=0)\n",
    "    sites_summary_ = sites_summary_.sort_values(by=['DataClass','ProtName','Res_id'],ascending=[True,True,True])\n",
    "    \n",
    "    return sites_summary_.reset_index(drop=True)\n",
    "\n",
    "#整理每个探针在训练中所需的蛋白list和氨基酸位点信息\n",
    "def sites_integration(dist_file_path,probe):\n",
    "    sites_summary = pd.DataFrame()\n",
    "    for data_class in listdir(dist_file_path+probe):\n",
    "        sites_list = listdir(dist_file_path+probe+'/'+data_class)\n",
    "        sites_list = [tuple(site.split('.')[0].split('_')[1:4]) for site in sites_list]\n",
    "        sites_list = pd.DataFrame(sites_list,columns=['ProtName','Residue','Res_id'])\n",
    "        sites_list['DataClass'] = data_class\n",
    "        sites_summary = pd.concat([sites_summary,sites_list],axis=0)\n",
    "    prot_list = sites_summary['ProtName'].unique()\n",
    "    pdbFiles = [file for file in listdir(path) if file.split('-')[1] in prot_list]\n",
    "    \n",
    "    #AlphaFold存在多个Accession重复的pdb文件，这里仅简单去重\n",
    "    #后续可根据sequence coverage等指标筛选unique的pdb\n",
    "    pdbFiles_uni,prot_store = [],[]\n",
    "    for file in pdbFiles:\n",
    "        if file.split('-')[1] not in prot_store:\n",
    "            pdbFiles_uni.append(file)\n",
    "            prot_store.append(file.split('-')[1])\n",
    "    \n",
    "    return sites_summary,pdbFiles_uni"
   ]
  },
  {
   "cell_type": "code",
   "execution_count": null,
   "id": "d1d02796-7d2d-4c49-ae2a-3bfac4b87534",
   "metadata": {},
   "outputs": [],
   "source": [
    "path = 'D:/All_for_paper/1. PhD Work Program/3. Research project/1. Dizco/AlphaFold_pdbFiles/'\n",
    "dist_file_path = 'D:/All_for_paper/1. PhD Work Program/3. Research project/1. Dizco/distance_matrix/'\n",
    "output_path = 'D:/All_for_paper/1. PhD Work Program/3. Research project/1. Dizco/Structural Information Calculation/data output/'\n",
    "\n",
    "for probe in tqdm(listdir(dist_file_path)):\n",
    "    sites_summary,pdbFiles_uni = sites_integration(dist_file_path,probe)\n",
    "    \n",
    "    with Pool(4) as p:\n",
    "        structure_data = p.map(data_integration,pdbFiles_uni)\n",
    "    structure_data_dic = {}\n",
    "    for data in structure_data: structure_data_dic.update(data)\n",
    "    \n",
    "    sites_summary = infor_merge(sites_summary,structure_data_dic)\n",
    "    sites_summary['probe'] = probe\n",
    "    \n",
    "    sites_summary.to_csv(output_path+'{:}_structure_infor.csv'.format(probe),index=False)"
   ]
  },
  {
   "cell_type": "code",
   "execution_count": null,
   "id": "d0413411-a1c2-4a70-a512-afe0e87dd2cb",
   "metadata": {},
   "outputs": [],
   "source": []
  }
 ],
 "metadata": {
  "kernelspec": {
   "display_name": "Python 3 (ipykernel)",
   "language": "python",
   "name": "python3"
  },
  "language_info": {
   "codemirror_mode": {
    "name": "ipython",
    "version": 3
   },
   "file_extension": ".py",
   "mimetype": "text/x-python",
   "name": "python",
   "nbconvert_exporter": "python",
   "pygments_lexer": "ipython3",
   "version": "3.12.4"
  }
 },
 "nbformat": 4,
 "nbformat_minor": 5
}
